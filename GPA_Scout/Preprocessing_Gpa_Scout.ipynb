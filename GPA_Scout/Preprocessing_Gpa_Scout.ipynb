{
  "cells": [
    {
      "cell_type": "code",
      "execution_count": null,
      "metadata": {
        "id": "oV8fzCeq2G57"
      },
      "outputs": [],
      "source": [
        "# ----------------------------------------------------------------------\n",
        "# 1. SETUP & INSTALLATIONS\n",
        "# ----------------------------------------------------------------------\n",
        "!pip install -q pandas sentence-transformers tqdm\n",
        "print(\"All required libraries are installed.\")\n",
        "\n",
        "# ----------------------------------------------------------------------\n",
        "# 2. IMPORTS\n",
        "# ----------------------------------------------------------------------\n",
        "import os\n",
        "import glob\n",
        "import pandas as pd\n",
        "from tqdm.notebook import tqdm\n",
        "import re\n",
        "import numpy as np\n",
        "from sentence_transformers import SentenceTransformer\n",
        "import json\n",
        "from google.colab import drive\n",
        "\n",
        "# ----------------------------------------------------------------------\n",
        "# 3. CONFIG\n",
        "# ----------------------------------------------------------------------\n",
        "DRIVE_DATA_DIR = \"/content/drive/MyDrive/LM_Project\"\n",
        "COLAB_OUTPUT_DIR = \"/content/app_data\"\n",
        "EMBEDDING_MODEL = \"BAAI/bge-base-en-v1.5\"\n",
        "\n",
        "# ----------------------------------------------------------------------\n",
        "# 4. DATA PROCESSING FUNCTIONS\n",
        "# ----------------------------------------------------------------------\n",
        "def parse_term(term: str):\n",
        "    term_str = str(term).lower(); year_match = re.search(r\"\\d{4}\", term_str); year = int(year_match.group()) if year_match else 0\n",
        "    if \"spring\" in term_str: season = \"Spring\";\n",
        "    elif \"summer\" in term_str: season = \"Summer\";\n",
        "    elif \"fall\" in term_str: season = \"Fall\";\n",
        "    else: season = \"Unknown\"\n",
        "    return year, season\n",
        "def calculate_gpa(row: pd.Series) -> float:\n",
        "    gpa_grades = {'A': 4, 'B': 3, 'C': 2, 'D': 1, 'F': 0}; total_points = sum(row.get(g, 0) * p for g, p in gpa_grades.items()); total_students = sum(row.get(g, 0) for g in gpa_grades)\n",
        "    return round(total_points / total_students, 2) if total_students > 0 else 0.0\n",
        "def load_and_prepare_documents(data_dir: str) -> list:\n",
        "    files = glob.glob(os.path.join(data_dir, \"*.csv\")); documents = []\n",
        "    print(f\"Found {len(files)} CSVs. Processing...\")\n",
        "    for file in tqdm(files, desc=\"Processing CSV Files\"):\n",
        "        df = pd.read_csv(file, encoding='utf-8-sig'); df.columns = df.columns.str.strip(); df.fillna(0, inplace=True)\n",
        "        for _, row in df.iterrows():\n",
        "            first_name = row.get('Primary Instructor First Name', '') or ''; last_name = row.get('Primary Instructor Last Name', '') or ''; instructor = f\"{first_name} {last_name}\".strip(); course_id = f\"{row.get('Subject', '')} {row.get('Catalog Number', '')}\".strip()\n",
        "            if not instructor or not course_id: continue\n",
        "            year, season = parse_term(row.get('Term', '')); gpa = calculate_gpa(row)\n",
        "            documents.append(f\"Instructor: {instructor} | Course: {course_id} | Term: {season} {year} | GPA: {gpa:.2f}\")\n",
        "    return documents\n",
        "\n",
        "# ----------------------------------------------------------------------\n",
        "# 5. MAIN BLOCK\n",
        "# ----------------------------------------------------------------------\n",
        "print(\"Mounting Google Drive...\")\n",
        "drive.mount('/content/drive')\n",
        "print(\"Drive mounted.\")\n",
        "os.makedirs(COLAB_OUTPUT_DIR, exist_ok=True)\n",
        "documents = load_and_prepare_documents(DRIVE_DATA_DIR)\n",
        "with open(os.path.join(COLAB_OUTPUT_DIR, \"documents.json\"), \"w\") as f:\n",
        "    json.dump(documents, f)\n",
        "print(f\"\\n Saved {len(documents)} documents to app_data/documents.json\")\n",
        "print(\"Loading embedding model (this may take a moment)...\")\n",
        "\n",
        "model = SentenceTransformer(EMBEDDING_MODEL, device='cuda')\n",
        "print(\"Creating embeddings (this is the slow part, but fast on GPU)...\")\n",
        "document_embeddings = model.encode(documents, show_progress_bar=True, normalize_embeddings=True)\n",
        "np.save(os.path.join(COLAB_OUTPUT_DIR, \"embeddings.npy\"), document_embeddings)\n",
        "print(f\"Saved embeddings of shape {document_embeddings.shape} to app_data/embeddings.npy\")\n"
      ]
    }
  ],
  "metadata": {
    "colab": {
      "provenance": []
    },
    "kernelspec": {
      "display_name": "Python 3",
      "name": "python3"
    },
    "language_info": {
      "name": "python"
    }
  },
  "nbformat": 4,
  "nbformat_minor": 0
}
